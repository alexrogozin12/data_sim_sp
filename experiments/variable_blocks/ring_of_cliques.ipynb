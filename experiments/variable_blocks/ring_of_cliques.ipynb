{
 "cells": [
  {
   "cell_type": "code",
   "execution_count": 1,
   "metadata": {},
   "outputs": [],
   "source": [
    "%load_ext autoreload\n",
    "%autoreload 2\n",
    "\n",
    "import sys\n",
    "sys.path.append(\"../../\")\n",
    "\n",
    "import numpy as np\n",
    "import scipy.linalg as sla\n",
    "import matplotlib.pyplot as plt\n",
    "from methods.minimization import DecentralizedGD, LoggerDecentralized, Diging\n",
    "from oracles.minimization import QuadraticOracle\n",
    "from oracles.minimization import LinearRegressionL2Oracle\n",
    "import random\n",
    "\n",
    "from laplacians import check_laplacian, clique_with_two_similar_edges, big_laplacian, creation, \\\n",
    "    special_supermatrix, usual_laplacian\n",
    "%matplotlib inline"
   ]
  },
  {
   "cell_type": "code",
   "execution_count": 2,
   "metadata": {},
   "outputs": [],
   "source": [
    "assert check_laplacian(special_supermatrix(3, 3))\n",
    "assert check_laplacian(usual_laplacian(3, 3))\n",
    "assert check_laplacian(clique_with_two_similar_edges(4))"
   ]
  },
  {
   "cell_type": "code",
   "execution_count": 3,
   "metadata": {},
   "outputs": [],
   "source": [
    "def experiment(n, k, epsilon, max_iter, seed=None, **kwargs):\n",
    "    data = creation(n, k, n, seed)\n",
    "    \n",
    "    W = usual_laplacian(n, k)\n",
    "    W_super = special_supermatrix(n, k)\n",
    "    \n",
    "    mix_mat_1 = np.eye(W.shape[0]) - W / sla.eigvals(W).real.max()\n",
    "    mix_mat_2 = np.eye(W_super.shape[0]) - W_super / sla.eigvals(W_super).real.max()\n",
    "    \n",
    "    oracles = [LinearRegressionL2Oracle(data[m][0], data[m][1], 0) for m in range(k * n)] \n",
    "    \n",
    "    column_A = np.zeros((n**2 * k, n))\n",
    "    column_b = np.zeros((n**2 * k))\n",
    "    for i in range(n * k):\n",
    "        column_A[i * n:(i + 1) * n, :] = data[i][0] \n",
    "        column_b[i * n:(i + 1) * n] = data[i][1]\n",
    "    # np.vstack\n",
    "    \n",
    "    x_real = sla.lstsq(column_A, column_b)[0]\n",
    "    x_0 = np.zeros((k * n * n)).reshape(n * k, n)\n",
    "    inactive_positions = np.vstack([np.abs(data[i][0]).sum(axis=0) == 0 for i in range(n*k)])\n",
    "    x_0[inactive_positions] = np.tile(x_real, n*k).reshape(n*k, n)[inactive_positions]\n",
    "    \n",
    "    logger_1 = LoggerDecentralized(x_real)\n",
    "    method_1 = Diging(\n",
    "        oracle_list=oracles,\n",
    "        stepsize=kwargs.get('stepsize', 0.0001),\n",
    "        mix_mat=mix_mat_1,\n",
    "        x_0=x_0,\n",
    "        logger=logger_1,\n",
    "        mix_mat_repr=\"simple\"\n",
    "    )\n",
    "    \n",
    "    logger_2 = LoggerDecentralized(x_real)\n",
    "    method_2 = Diging(\n",
    "        oracle_list=oracles,\n",
    "        stepsize=kwargs.get('stepsize', 0.0001),\n",
    "        mix_mat=mix_mat_2,\n",
    "        x_0=x_0,\n",
    "        logger=logger_2,\n",
    "        mix_mat_repr=\"kronecker\"\n",
    "    )   \n",
    "\n",
    "    method_1.run(max_iter=max_iter)\n",
    "    method_2.run(max_iter=max_iter)\n",
    "    \n",
    "    return {'logger_usual': logger_1, 'logger_super': logger_2, 'func_true': np.mean([oracle.func(x_real) for oracle in oracles])}"
   ]
  },
  {
   "cell_type": "code",
   "execution_count": 4,
   "metadata": {},
   "outputs": [
    {
     "name": "stdout",
     "output_type": "stream",
     "text": [
      "CPU times: user 3.83 s, sys: 11.6 ms, total: 3.84 s\n",
      "Wall time: 2.92 s\n"
     ]
    }
   ],
   "source": [
    "%%time\n",
    "results = experiment(5, 3, 1, 5000, seed=0, stepsize=1e-5)"
   ]
  },
  {
   "cell_type": "code",
   "execution_count": 5,
   "metadata": {},
   "outputs": [
    {
     "data": {
      "text/plain": [
       "<matplotlib.legend.Legend at 0x7fa1ac1e6850>"
      ]
     },
     "execution_count": 5,
     "metadata": {},
     "output_type": "execute_result"
    },
    {
     "data": {
      "image/png": "[encoded data removed]",
      "text/plain": [
       "<Figure size 600x400 with 1 Axes>"
      ]
     },
     "metadata": {
      "needs_background": "light"
     },
     "output_type": "display_data"
    }
   ],
   "source": [
    "plot_type = \"func_avg\"\n",
    "\n",
    "logger_1 = results['logger_usual']\n",
    "logger_2 = results['logger_super']\n",
    "func_true = results['func_true']\n",
    "# func_true = 0\n",
    "\n",
    "plt.figure(dpi=100)\n",
    "ax = plt.gca()\n",
    "if plot_type == \"con\":\n",
    "    plot_data_1 = logger_1.sq_dist_to_con\n",
    "    plot_data_2 = logger_2.sq_dist_to_con\n",
    "    y_label = \"sq_dist_to_con\"\n",
    "elif plot_type == \"avg_to_opt\":\n",
    "    plot_data_1 = logger_1.sq_dist_avg_to_opt\n",
    "    plot_data_2 = logger_2.sq_dist_avg_to_opt\n",
    "    y_label = \"sq_dist_avg_to_opt\"\n",
    "elif plot_type == \"func_avg\":\n",
    "    plot_data_1 = np.array(logger_1.func_avg) - func_true\n",
    "    plot_data_2 = np.array(logger_2.func_avg) - func_true\n",
    "    y_label = \"func\"\n",
    "else:\n",
    "    raise ValueError(\"Expected plot_type to be 'con', 'avg_to_opt', 'func_avg', got '{}'\".format(plot_type))\n",
    "\n",
    "owo_1 = [i for i in range(len(plot_data_1))]\n",
    "owo_2 = [i for i in range(len(plot_data_2))]\n",
    "ax.plot(owo_1, plot_data_1, '.-', markevery=0.1, label='usual')\n",
    "ax.plot(owo_2, plot_data_2, '.-', markevery=0.1, label='super_matrix')\n",
    "ax.set_xlabel('num_iter', fontsize=10)\n",
    "ax.set_ylabel(y_label, fontsize=10)\n",
    "ax.set_yscale('log')\n",
    "ax.grid()\n",
    "ax.legend(fontsize=15)"
   ]
  },
  {
   "cell_type": "code",
   "execution_count": null,
   "metadata": {},
   "outputs": [],
   "source": []
  }
 ],
 "metadata": {
  "kernelspec": {
   "display_name": "Python 3",
   "language": "python",
   "name": "python3"
  },
  "language_info": {
   "codemirror_mode": {
    "name": "ipython",
    "version": 3
   },
   "file_extension": ".py",
   "mimetype": "text/x-python",
   "name": "python",
   "nbconvert_exporter": "python",
   "pygments_lexer": "ipython3",
   "version": "3.7.6"
  }
 },
 "nbformat": 4,
 "nbformat_minor": 4
}
