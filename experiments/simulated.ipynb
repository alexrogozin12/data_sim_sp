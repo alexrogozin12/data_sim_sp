{
 "cells": [
  {
   "cell_type": "code",
   "execution_count": 1,
   "metadata": {},
   "outputs": [],
   "source": [
    "import sys\n",
    "sys.path.append(\"../\")\n",
    "\n",
    "import numpy as np\n",
    "import numpy.linalg as npla\n",
    "import scipy\n",
    "import scipy.linalg as sla\n",
    "import pickle\n",
    "import matplotlib.pyplot as plt\n",
    "from sklearn.datasets import load_svmlight_file\n",
    "from sklearn.model_selection import train_test_split\n",
    "%matplotlib inline\n",
    "\n",
    "from utils.saddle_sliding import SaddleSlidingRunner\n",
    "from methods.saddle import SaddleSliding, Extragradient, extragradient_solver, Logger\n",
    "from oracles.saddle import ArrayPair, RobustLinearOracle, create_robust_linear_oracle, OracleLinearComb\n",
    "\n",
    "from experiment_utils import gen_oracles_for_sliding"
   ]
  },
  {
   "cell_type": "code",
   "execution_count": 2,
   "metadata": {},
   "outputs": [],
   "source": [
    "n_one = 5\n",
    "d = 3\n",
    "num_summands = 4\n",
    "noise = 0.5\n",
    "regcoef_x = 0.2\n",
    "regcoef_y = 0.2\n",
    "\n",
    "oracle_sum, oracle_phi, oracle_g = gen_oracles_for_sliding(n_one, d, num_summands, noise, regcoef_x, regcoef_y)\n",
    "z_0 = ArrayPair.zeros(d)"
   ]
  },
  {
   "cell_type": "code",
   "execution_count": 3,
   "metadata": {},
   "outputs": [
    {
     "name": "stdout",
     "output_type": "stream",
     "text": [
      "steps to convergence:  445\n",
      "grad norm:  3.0270143439544665e-09\n",
      "CPU times: user 31.2 ms, sys: 0 ns, total: 31.2 ms\n",
      "Wall time: 30.5 ms\n"
     ]
    }
   ],
   "source": [
    "%%time\n",
    "logger_extragradient = Logger()\n",
    "extragradient = Extragradient(\n",
    "    oracle=oracle_sum, \n",
    "    stepsize=0.01, \n",
    "    z_0=z_0, \n",
    "    tolerance=1e-17, \n",
    "    stopping_criteria='grad_abs', \n",
    "    logger=logger_extragradient\n",
    ")\n",
    "extragradient.run(100000)\n",
    "z_true = logger_extragradient.z_star\n",
    "print('steps to convergence: ', logger_extragradient.num_steps)\n",
    "print('grad norm: ', oracle_sum.grad(z_true).norm())"
   ]
  },
  {
   "cell_type": "code",
   "execution_count": 4,
   "metadata": {},
   "outputs": [
    {
     "name": "stdout",
     "output_type": "stream",
     "text": [
      "CPU times: user 28.6 s, sys: 11.2 ms, total: 28.6 s\n",
      "Wall time: 28.6 s\n"
     ]
    }
   ],
   "source": [
    "%%time\n",
    "logger_sliding = Logger(z_true=z_true)\n",
    "sliding = SaddleSliding(\n",
    "    oracle_g, \n",
    "    oracle_phi, \n",
    "    stepsize_outer=0.02, \n",
    "    stepsize_inner=0.01, \n",
    "    inner_solver=extragradient_solver, \n",
    "    inner_iterations=1000, \n",
    "    z_0=z_0,\n",
    "    logger=logger_sliding\n",
    ")\n",
    "sliding.run(500)"
   ]
  },
  {
   "cell_type": "code",
   "execution_count": 5,
   "metadata": {},
   "outputs": [
    {
     "name": "stdout",
     "output_type": "stream",
     "text": [
      "CPU times: user 33.9 ms, sys: 0 ns, total: 33.9 ms\n",
      "Wall time: 32.7 ms\n"
     ]
    }
   ],
   "source": [
    "%%time\n",
    "logger_extragradient_again = Logger(z_true=z_true)\n",
    "extragradient_again = Extragradient(\n",
    "    oracle=oracle_sum, \n",
    "    stepsize=0.01, \n",
    "    z_0=z_0, \n",
    "    tolerance=1e-17, \n",
    "    stopping_criteria='grad_abs', \n",
    "    logger=logger_extragradient_again\n",
    ")\n",
    "extragradient_again.run(500)"
   ]
  },
  {
   "cell_type": "code",
   "execution_count": 6,
   "metadata": {},
   "outputs": [
    {
     "data": {
      "image/png": "[encoded data removed]",
      "text/plain": [
       "<Figure size 432x288 with 1 Axes>"
      ]
     },
     "metadata": {
      "needs_background": "light"
     },
     "output_type": "display_data"
    }
   ],
   "source": [
    "plt.plot(logger_sliding.dist_to_opt, label='sliding')\n",
    "plt.plot(logger_extragradient_again.dist_to_opt, label='extragradient')\n",
    "\n",
    "plt.yscale('log')\n",
    "plt.legend()\n",
    "plt.grid()"
   ]
  },
  {
   "cell_type": "code",
   "execution_count": null,
   "metadata": {},
   "outputs": [],
   "source": []
  }
 ],
 "metadata": {
  "kernelspec": {
   "display_name": "Python 3",
   "language": "python",
   "name": "python3"
  },
  "language_info": {
   "codemirror_mode": {
    "name": "ipython",
    "version": 3
   },
   "file_extension": ".py",
   "mimetype": "text/x-python",
   "name": "python",
   "nbconvert_exporter": "python",
   "pygments_lexer": "ipython3",
   "version": "3.7.6"
  }
 },
 "nbformat": 4,
 "nbformat_minor": 4
}
